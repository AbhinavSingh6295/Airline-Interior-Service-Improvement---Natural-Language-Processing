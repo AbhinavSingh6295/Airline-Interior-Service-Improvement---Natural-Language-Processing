{
  "nbformat": 4,
  "nbformat_minor": 0,
  "metadata": {
    "colab": {
      "name": "Pre-processing.ipynb",
      "provenance": [],
      "collapsed_sections": []
    },
    "kernelspec": {
      "name": "python3",
      "display_name": "Python 3"
    },
    "language_info": {
      "name": "python"
    }
  },
  "cells": [
    {
      "cell_type": "code",
      "execution_count": null,
      "metadata": {
        "id": "7Cx9IT3VdoIR"
      },
      "outputs": [],
      "source": [
        "import pandas as pd\n",
        "sg_data = pd.read_csv('/content/drive/MyDrive/Hackathon/sg.csv', header = 0, sep = ',')\n",
        "sg_data.head()"
      ]
    },
    {
      "cell_type": "code",
      "source": [
        "#Remove the blank at the start and end of the comments\n",
        "sg_data['comment'] = sg_data['comment'].apply(lambda x: x.strip())\n",
        "\n",
        "#Remove all the puctuation and numbers\n",
        "import re\n",
        "sg_data['comment'] = sg_data['comment'].apply(lambda x: re.sub(r\"[^a-zA-Z]\", \" \", x))\n",
        "\n",
        "#Convert to lowercase\n",
        "sg_data['comment'] = sg_data['comment'].apply(lambda x: x.lower())\n",
        "\n",
        "# Removal of english language stopwords\n",
        "import nltk\n",
        "nltk.download('stopwords')\n",
        "from nltk.corpus import stopwords\n",
        "stopwords = stopwords.words('english')\n",
        "sg_data['comment'] = sg_data['comment'].apply(lambda x: \" \".join([word for word in x.split(\" \") if word not in stopwords]))\n",
        "\n",
        "#Using pos tags to remove the irrelavant words\n",
        "import spacy\n",
        "nlp = spacy.load(\"en_core_web_sm\", disable=['parser', 'ner'])\n",
        "sg_data['comment'] = sg_data['comment'].apply(lambda x: \" \".join([str(token) for token in nlp(x) if token.pos_ in ['NOUN', 'ADJ', 'VERB', 'ADV']]))"
      ],
      "metadata": {
        "id": "nV_Gc_jweCC6"
      },
      "execution_count": null,
      "outputs": []
    }
  ]
}